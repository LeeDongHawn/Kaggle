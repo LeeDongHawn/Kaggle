{
 "cells": [
  {
   "cell_type": "markdown",
   "metadata": {},
   "source": [
    "https://www.kaggle.com/c/dogs-vs-cats,  \n",
    "book : 케라스 창시자에게 배우는 딥러닝"
   ]
  },
  {
   "cell_type": "markdown",
   "metadata": {},
   "source": [
    "# 데이터셋 구조(처음)\n",
    "- train.zip\n",
    "    - cat.0.jpg ...\n",
    "    - cat.12499.jpg\n",
    "    - dog.0.jpg ...\n",
    "    - dog.12499.jpg\n",
    "    \n",
    "- test1.zip\n",
    "    - 1.jpg ...\n",
    "    - 12499.jpg ...\n",
    "\n",
    "                \n",
    "  "
   ]
  },
  {
   "cell_type": "code",
   "execution_count": 1,
   "metadata": {},
   "outputs": [
    {
     "name": "stderr",
     "output_type": "stream",
     "text": [
      "C:\\Users\\User\\Anaconda3\\envs\\test\\lib\\site-packages\\tensorflow\\python\\framework\\dtypes.py:516: FutureWarning: Passing (type, 1) or '1type' as a synonym of type is deprecated; in a future version of numpy, it will be understood as (type, (1,)) / '(1,)type'.\n",
      "  _np_qint8 = np.dtype([(\"qint8\", np.int8, 1)])\n",
      "C:\\Users\\User\\Anaconda3\\envs\\test\\lib\\site-packages\\tensorflow\\python\\framework\\dtypes.py:517: FutureWarning: Passing (type, 1) or '1type' as a synonym of type is deprecated; in a future version of numpy, it will be understood as (type, (1,)) / '(1,)type'.\n",
      "  _np_quint8 = np.dtype([(\"quint8\", np.uint8, 1)])\n",
      "C:\\Users\\User\\Anaconda3\\envs\\test\\lib\\site-packages\\tensorflow\\python\\framework\\dtypes.py:518: FutureWarning: Passing (type, 1) or '1type' as a synonym of type is deprecated; in a future version of numpy, it will be understood as (type, (1,)) / '(1,)type'.\n",
      "  _np_qint16 = np.dtype([(\"qint16\", np.int16, 1)])\n",
      "C:\\Users\\User\\Anaconda3\\envs\\test\\lib\\site-packages\\tensorflow\\python\\framework\\dtypes.py:519: FutureWarning: Passing (type, 1) or '1type' as a synonym of type is deprecated; in a future version of numpy, it will be understood as (type, (1,)) / '(1,)type'.\n",
      "  _np_quint16 = np.dtype([(\"quint16\", np.uint16, 1)])\n",
      "C:\\Users\\User\\Anaconda3\\envs\\test\\lib\\site-packages\\tensorflow\\python\\framework\\dtypes.py:520: FutureWarning: Passing (type, 1) or '1type' as a synonym of type is deprecated; in a future version of numpy, it will be understood as (type, (1,)) / '(1,)type'.\n",
      "  _np_qint32 = np.dtype([(\"qint32\", np.int32, 1)])\n",
      "C:\\Users\\User\\Anaconda3\\envs\\test\\lib\\site-packages\\tensorflow\\python\\framework\\dtypes.py:525: FutureWarning: Passing (type, 1) or '1type' as a synonym of type is deprecated; in a future version of numpy, it will be understood as (type, (1,)) / '(1,)type'.\n",
      "  np_resource = np.dtype([(\"resource\", np.ubyte, 1)])\n"
     ]
    },
    {
     "name": "stdout",
     "output_type": "stream",
     "text": [
      "1 Physical CPU, 1 Logical CPU\n"
     ]
    },
    {
     "name": "stderr",
     "output_type": "stream",
     "text": [
      "C:\\Users\\User\\Anaconda3\\envs\\test\\lib\\site-packages\\tensorboard\\compat\\tensorflow_stub\\dtypes.py:541: FutureWarning: Passing (type, 1) or '1type' as a synonym of type is deprecated; in a future version of numpy, it will be understood as (type, (1,)) / '(1,)type'.\n",
      "  _np_qint8 = np.dtype([(\"qint8\", np.int8, 1)])\n",
      "C:\\Users\\User\\Anaconda3\\envs\\test\\lib\\site-packages\\tensorboard\\compat\\tensorflow_stub\\dtypes.py:542: FutureWarning: Passing (type, 1) or '1type' as a synonym of type is deprecated; in a future version of numpy, it will be understood as (type, (1,)) / '(1,)type'.\n",
      "  _np_quint8 = np.dtype([(\"quint8\", np.uint8, 1)])\n",
      "C:\\Users\\User\\Anaconda3\\envs\\test\\lib\\site-packages\\tensorboard\\compat\\tensorflow_stub\\dtypes.py:543: FutureWarning: Passing (type, 1) or '1type' as a synonym of type is deprecated; in a future version of numpy, it will be understood as (type, (1,)) / '(1,)type'.\n",
      "  _np_qint16 = np.dtype([(\"qint16\", np.int16, 1)])\n",
      "C:\\Users\\User\\Anaconda3\\envs\\test\\lib\\site-packages\\tensorboard\\compat\\tensorflow_stub\\dtypes.py:544: FutureWarning: Passing (type, 1) or '1type' as a synonym of type is deprecated; in a future version of numpy, it will be understood as (type, (1,)) / '(1,)type'.\n",
      "  _np_quint16 = np.dtype([(\"quint16\", np.uint16, 1)])\n",
      "C:\\Users\\User\\Anaconda3\\envs\\test\\lib\\site-packages\\tensorboard\\compat\\tensorflow_stub\\dtypes.py:545: FutureWarning: Passing (type, 1) or '1type' as a synonym of type is deprecated; in a future version of numpy, it will be understood as (type, (1,)) / '(1,)type'.\n",
      "  _np_qint32 = np.dtype([(\"qint32\", np.int32, 1)])\n",
      "C:\\Users\\User\\Anaconda3\\envs\\test\\lib\\site-packages\\tensorboard\\compat\\tensorflow_stub\\dtypes.py:550: FutureWarning: Passing (type, 1) or '1type' as a synonym of type is deprecated; in a future version of numpy, it will be understood as (type, (1,)) / '(1,)type'.\n",
      "  np_resource = np.dtype([(\"resource\", np.ubyte, 1)])\n"
     ]
    }
   ],
   "source": [
    "import tensorflow as tf\n",
    "import os\n",
    "import numpy as np\n",
    "\n",
    "os.environ['TF_CPP_MIN_LOG_LEVEL'] = '3'\n",
    "os.environ[\"CUDA_DEVICE_ORDER\"] = \"PCI_BUS_ID\"\n",
    "os.environ[\"CUDA_VISIBLE_DEVICES\"] = '0' # Set to -1 if CPU should be used CPU = -1 , GPU = 0\n",
    "\n",
    "gpus = tf.config.experimental.list_physical_devices('GPU')\n",
    "cpus = tf.config.experimental.list_physical_devices('CPU')\n",
    "\n",
    "if gpus:\n",
    "    try:\n",
    "        # Currently, memory growth needs to be the same across GPUs\n",
    "        for gpu in gpus:\n",
    "            tf.config.experimental.set_memory_growth(gpu, True)\n",
    "        logical_gpus = tf.config.experimental.list_logical_devices('GPU')\n",
    "        print(len(gpus), \"Physical GPUs,\", len(logical_gpus), \"Logical GPUs\")\n",
    "    except RuntimeError as e:\n",
    "        # Memory growth must be set before GPUs have been initialized\n",
    "        print(e)\n",
    "elif cpus:\n",
    "    try:\n",
    "        # Currently, memory growth needs to be the same across GPUs\n",
    "        logical_cpus= tf.config.experimental.list_logical_devices('CPU')\n",
    "        print(len(cpus), \"Physical CPU,\", len(logical_cpus), \"Logical CPU\")\n",
    "    except RuntimeError as e:\n",
    "        # Memory growth must be set before GPUs have been initialized\n",
    "        print(e)"
   ]
  },
  {
   "cell_type": "code",
   "execution_count": 5,
   "metadata": {},
   "outputs": [],
   "source": [
    "# train 구성 : 고양이 12500, 개 12500\n",
    "import os\n",
    "import shutil\n",
    "\n",
    "original_dataset_dir = 'D:/dogs-vs-cats/train/train'\n",
    "base_dir = 'D:/dogs-vs-cats/datasets'\n",
    "os.mkdir(base_dir)\n",
    "\n",
    "# datasets/train\n",
    "train_dir = os.path.join(base_dir, 'train')\n",
    "os.mkdir(train_dir)\n",
    "# datasets/validation\n",
    "validation_dir = os.path.join(base_dir, 'validation')\n",
    "os.mkdir(validation_dir)\n",
    "# datasets/test\n",
    "test_dir = os.path.join(base_dir, 'test')\n",
    "os.mkdir(test_dir)\n",
    "\n",
    "# train/cats\n",
    "train_cats_dir = os.path.join(train_dir,'cats')\n",
    "os.mkdir(train_cats_dir)\n",
    "# train/dogs\n",
    "train_dogs_dir = os.path.join(train_dir,'dogs')\n",
    "os.mkdir(train_dogs_dir)\n",
    "\n",
    "# validation/cats\n",
    "validation_cats_dir = os.path.join(validation_dir,'cats')\n",
    "os.mkdir(validation_cats_dir)\n",
    "# validation/dogs\n",
    "validation_dogs_dir = os.path.join(validation_dir,'dogs')\n",
    "os.mkdir(validation_dogs_dir)\n",
    "\n",
    "# test/cats\n",
    "test_cats_dir = os.path.join(test_dir,'cats')\n",
    "os.mkdir(test_cats_dir)\n",
    "# test/dogs\n",
    "test_dogs_dir = os.path.join(test_dir,'dogs')\n",
    "os.mkdir(test_dogs_dir)\n",
    "\n",
    "# cat.0 ~ cat.999 : train/cats\n",
    "fnames = ['cat.{}.jpg'.format(i) for i in range(1000)]\n",
    "for fname in fnames :\n",
    "    src = os.path.join(original_dataset_dir, fname)\n",
    "    dst = os.path.join(train_cats_dir, fname)\n",
    "    shutil.copyfile(src, dst)\n",
    "# cat.1000 ~ cat.1499 : validation/cats\n",
    "fnames = ['cat.{}.jpg'.format(i) for i in range(1000,1500)]\n",
    "for fname in fnames :\n",
    "    src = os.path.join(original_dataset_dir, fname)\n",
    "    dst = os.path.join(validation_cats_dir, fname)\n",
    "    shutil.copyfile(src, dst)\n",
    "# cat.1000 ~ cat.1499 : test/cats    \n",
    "fnames = ['cat.{}.jpg'.format(i) for i in range(1500,2000)]\n",
    "for fname in fnames :\n",
    "    src = os.path.join(original_dataset_dir, fname)\n",
    "    dst = os.path.join(test_cats_dir, fname)\n",
    "    shutil.copyfile(src, dst)\n",
    "    \n",
    "# dog.0 ~ dog.999 : train/dogs\n",
    "fnames = ['dog.{}.jpg'.format(i) for i in range(1000)]\n",
    "for fname in fnames :\n",
    "    src = os.path.join(original_dataset_dir, fname)\n",
    "    dst = os.path.join(train_dogs_dir, fname)\n",
    "    shutil.copyfile(src, dst)\n",
    "# dog.1000 ~ dog.1499 : validation/dogs\n",
    "fnames = ['dog.{}.jpg'.format(i) for i in range(1000,1500)]\n",
    "for fname in fnames :\n",
    "    src = os.path.join(original_dataset_dir, fname)\n",
    "    dst = os.path.join(validation_dogs_dir, fname)\n",
    "    shutil.copyfile(src, dst)\n",
    "# dog.1000 ~ dog.1499 : test/dogs   \n",
    "fnames = ['dog.{}.jpg'.format(i) for i in range(1500,2000)]\n",
    "for fname in fnames :\n",
    "    src = os.path.join(original_dataset_dir, fname)\n",
    "    dst = os.path.join(test_dogs_dir, fname)\n",
    "    shutil.copyfile(src, dst)"
   ]
  },
  {
   "cell_type": "markdown",
   "metadata": {},
   "source": [
    "# 데이터셋 구조(최종)\n",
    "## train 안에 있는 데이터만 사용함\n",
    "## train : 개,고양이 500장\n",
    "## validation : 개,고양이 500장\n",
    "## test : 개,고양이 500장\n",
    "\n",
    "- datasets\n",
    "    - test\n",
    "        - cats\n",
    "        - dogs \n",
    "    - train\n",
    "        - cats\n",
    "        - dogs\n",
    "    - validation \n",
    "        - cats\n",
    "        - dogs"
   ]
  },
  {
   "cell_type": "code",
   "execution_count": 7,
   "metadata": {},
   "outputs": [
    {
     "name": "stdout",
     "output_type": "stream",
     "text": [
      "Found 2000 images belonging to 2 classes.\n",
      "Found 1000 images belonging to 2 classes.\n"
     ]
    }
   ],
   "source": [
    "# 이미지 [0,1]로 조정 및 resize\n",
    "from keras.preprocessing.image import ImageDataGenerator\n",
    "\n",
    "train_datagen = ImageDataGenerator(rescale=1./255)\n",
    "validation_datagen = ImageDataGenerator(rescale=1./255)\n",
    "\n",
    "train_generator = train_datagen.flow_from_directory(\n",
    "    train_dir,\n",
    "    target_size = (150,150),\n",
    "    batch_size = 20,\n",
    "    class_mode = 'binary')\n",
    "\n",
    "validation_generator = validation_datagen.flow_from_directory(\n",
    "    validation_dir,\n",
    "    target_size = (150,150),\n",
    "    batch_size = 20,\n",
    "    class_mode = 'binary')\n"
   ]
  },
  {
   "cell_type": "code",
   "execution_count": 15,
   "metadata": {},
   "outputs": [
    {
     "name": "stdout",
     "output_type": "stream",
     "text": [
      "Model: \"sequential_2\"\n",
      "_________________________________________________________________\n",
      "Layer (type)                 Output Shape              Param #   \n",
      "=================================================================\n",
      "conv2d_6 (Conv2D)            (None, 150, 150, 16)      448       \n",
      "_________________________________________________________________\n",
      "max_pooling2d_6 (MaxPooling2 (None, 75, 75, 16)        0         \n",
      "_________________________________________________________________\n",
      "dropout_6 (Dropout)          (None, 75, 75, 16)        0         \n",
      "_________________________________________________________________\n",
      "conv2d_7 (Conv2D)            (None, 75, 75, 32)        4640      \n",
      "_________________________________________________________________\n",
      "max_pooling2d_7 (MaxPooling2 (None, 37, 37, 32)        0         \n",
      "_________________________________________________________________\n",
      "dropout_7 (Dropout)          (None, 37, 37, 32)        0         \n",
      "_________________________________________________________________\n",
      "conv2d_8 (Conv2D)            (None, 37, 37, 64)        18496     \n",
      "_________________________________________________________________\n",
      "max_pooling2d_8 (MaxPooling2 (None, 18, 18, 64)        0         \n",
      "_________________________________________________________________\n",
      "dropout_8 (Dropout)          (None, 18, 18, 64)        0         \n",
      "_________________________________________________________________\n",
      "flatten_2 (Flatten)          (None, 20736)             0         \n",
      "_________________________________________________________________\n",
      "dense_6 (Dense)              (None, 512)               10617344  \n",
      "_________________________________________________________________\n",
      "dense_7 (Dense)              (None, 256)               131328    \n",
      "_________________________________________________________________\n",
      "dense_8 (Dense)              (None, 1)                 257       \n",
      "=================================================================\n",
      "Total params: 10,772,513\n",
      "Trainable params: 10,772,513\n",
      "Non-trainable params: 0\n",
      "_________________________________________________________________\n"
     ]
    }
   ],
   "source": [
    "# 모델 구성\n",
    "from tensorflow.keras.models import Sequential\n",
    "from tensorflow.keras import layers\n",
    "\n",
    "model = Sequential()\n",
    "\n",
    "model.add(layers.InputLayer(input_shape=(150, 150, 3)))\n",
    "model.add(layers.Conv2D(16, (3, 3), (1, 1), 'same', activation='relu'))\n",
    "model.add(layers.MaxPooling2D((2, 2)))\n",
    "model.add(layers.Dropout(rate=0.3))\n",
    "\n",
    "model.add(layers.Conv2D(32, (3, 3), (1, 1), 'same', activation='relu'))\n",
    "model.add(layers.MaxPooling2D((2, 2)))\n",
    "model.add(layers.Dropout(rate=0.3))\n",
    "\n",
    "model.add(layers.Conv2D(64, (3, 3), (1, 1), 'same', activation='relu'))\n",
    "model.add(layers.MaxPooling2D((2, 2)))\n",
    "model.add(layers.Dropout(rate=0.3))\n",
    "\n",
    "model.add(layers.Flatten())\n",
    "model.add(layers.Dense(512, activation='relu'))\n",
    "model.add(layers.Dense(256, activation='relu'))\n",
    "model.add(layers.Dense(1, activation='sigmoid'))\n",
    "\n",
    "model.summary()"
   ]
  },
  {
   "cell_type": "code",
   "execution_count": 16,
   "metadata": {},
   "outputs": [],
   "source": [
    "# 모델 학습(최적화 함수, loss function 설정)\n",
    "model.compile(\n",
    "    optimizer='adam',\n",
    "    loss='binary_crossentropy', \n",
    "    metrics=['acc'],\n",
    ")"
   ]
  },
  {
   "cell_type": "code",
   "execution_count": 17,
   "metadata": {},
   "outputs": [
    {
     "name": "stdout",
     "output_type": "stream",
     "text": [
      "Epoch 1/30\n",
      "100/100 [==============================] - 30s 295ms/step - loss: 0.7194 - acc: 0.5120 - val_loss: 0.6931 - val_acc: 0.5000\n",
      "Epoch 2/30\n",
      "100/100 [==============================] - 22s 224ms/step - loss: 0.6950 - acc: 0.5310 - val_loss: 0.6923 - val_acc: 0.5000\n",
      "Epoch 3/30\n",
      "100/100 [==============================] - 22s 221ms/step - loss: 0.6863 - acc: 0.5560 - val_loss: 0.6730 - val_acc: 0.6210\n",
      "Epoch 4/30\n",
      "100/100 [==============================] - 22s 224ms/step - loss: 0.6518 - acc: 0.6080 - val_loss: 0.6484 - val_acc: 0.6250\n",
      "Epoch 5/30\n",
      "100/100 [==============================] - 22s 225ms/step - loss: 0.6206 - acc: 0.6610 - val_loss: 0.6136 - val_acc: 0.6560\n",
      "Epoch 6/30\n",
      "100/100 [==============================] - 22s 221ms/step - loss: 0.5727 - acc: 0.6885 - val_loss: 0.6293 - val_acc: 0.6370\n",
      "Epoch 7/30\n",
      "100/100 [==============================] - 22s 221ms/step - loss: 0.5304 - acc: 0.7290 - val_loss: 0.6116 - val_acc: 0.6570\n",
      "Epoch 8/30\n",
      "100/100 [==============================] - 22s 220ms/step - loss: 0.4578 - acc: 0.7740 - val_loss: 0.6105 - val_acc: 0.6600\n",
      "Epoch 9/30\n",
      "100/100 [==============================] - 22s 222ms/step - loss: 0.3846 - acc: 0.8285 - val_loss: 0.6937 - val_acc: 0.6730\n",
      "Epoch 10/30\n",
      "100/100 [==============================] - 22s 222ms/step - loss: 0.3013 - acc: 0.8705 - val_loss: 0.7818 - val_acc: 0.6840\n",
      "Epoch 11/30\n",
      "100/100 [==============================] - 22s 221ms/step - loss: 0.2349 - acc: 0.9055 - val_loss: 0.7320 - val_acc: 0.6920\n",
      "Epoch 12/30\n",
      "100/100 [==============================] - 22s 220ms/step - loss: 0.1787 - acc: 0.9240 - val_loss: 0.8352 - val_acc: 0.6710\n",
      "Epoch 13/30\n",
      "100/100 [==============================] - 22s 219ms/step - loss: 0.1304 - acc: 0.9490 - val_loss: 1.1401 - val_acc: 0.6960\n",
      "Epoch 14/30\n",
      "100/100 [==============================] - 22s 218ms/step - loss: 0.1016 - acc: 0.9615 - val_loss: 1.0095 - val_acc: 0.6900\n",
      "Epoch 15/30\n",
      "100/100 [==============================] - 22s 220ms/step - loss: 0.0763 - acc: 0.9700 - val_loss: 1.0564 - val_acc: 0.6940\n",
      "Epoch 16/30\n",
      "100/100 [==============================] - 22s 222ms/step - loss: 0.0714 - acc: 0.9785 - val_loss: 1.2617 - val_acc: 0.6740\n",
      "Epoch 17/30\n",
      "100/100 [==============================] - 23s 231ms/step - loss: 0.0467 - acc: 0.9810 - val_loss: 1.3568 - val_acc: 0.6640\n",
      "Epoch 18/30\n",
      "100/100 [==============================] - 22s 224ms/step - loss: 0.0364 - acc: 0.9860 - val_loss: 1.3533 - val_acc: 0.6670\n",
      "Epoch 19/30\n",
      "100/100 [==============================] - 23s 225ms/step - loss: 0.0513 - acc: 0.9820 - val_loss: 1.4731 - val_acc: 0.6640\n",
      "Epoch 20/30\n",
      "100/100 [==============================] - 22s 225ms/step - loss: 0.0331 - acc: 0.9870 - val_loss: 1.4476 - val_acc: 0.6800\n",
      "Epoch 21/30\n",
      "100/100 [==============================] - 22s 221ms/step - loss: 0.0271 - acc: 0.9920 - val_loss: 1.5336 - val_acc: 0.6830\n",
      "Epoch 22/30\n",
      "100/100 [==============================] - 22s 220ms/step - loss: 0.0752 - acc: 0.9735 - val_loss: 1.5392 - val_acc: 0.6740\n",
      "Epoch 23/30\n",
      "100/100 [==============================] - 22s 222ms/step - loss: 0.0445 - acc: 0.9865 - val_loss: 1.5879 - val_acc: 0.6990\n",
      "Epoch 24/30\n",
      "100/100 [==============================] - 22s 225ms/step - loss: 0.0166 - acc: 0.9930 - val_loss: 1.6136 - val_acc: 0.6710\n",
      "Epoch 25/30\n",
      "100/100 [==============================] - 22s 221ms/step - loss: 0.0127 - acc: 0.9945 - val_loss: 1.8630 - val_acc: 0.6760\n",
      "Epoch 26/30\n",
      "100/100 [==============================] - 22s 219ms/step - loss: 0.0133 - acc: 0.9955 - val_loss: 1.6953 - val_acc: 0.6710\n",
      "Epoch 27/30\n",
      "100/100 [==============================] - 22s 219ms/step - loss: 0.0084 - acc: 0.9965 - val_loss: 1.8640 - val_acc: 0.6790\n",
      "Epoch 28/30\n",
      "100/100 [==============================] - 22s 220ms/step - loss: 0.0279 - acc: 0.9905 - val_loss: 1.5970 - val_acc: 0.6860\n",
      "Epoch 29/30\n",
      "100/100 [==============================] - 22s 219ms/step - loss: 0.0333 - acc: 0.9880 - val_loss: 1.6522 - val_acc: 0.6860\n",
      "Epoch 30/30\n",
      "100/100 [==============================] - 22s 219ms/step - loss: 0.0237 - acc: 0.9910 - val_loss: 1.6386 - val_acc: 0.6880\n"
     ]
    }
   ],
   "source": [
    "from keras.callbacks import ModelCheckpoint\n",
    "from keras.callbacks import ReduceLROnPlateau\n",
    "from keras.callbacks import EarlyStopping\n",
    "\n",
    "reLR = ReduceLROnPlateau(patience=5,verbose=1,factor=0.5) #learning rate scheduler\n",
    "es = EarlyStopping(patience=8, verbose=1)\n",
    "checkpointer = ModelCheckpoint(filepath='D:/dogs-vs-cats/datasets/model.weights.best1.hdf5', verbose = 1, save_best_only=True)\n",
    "\n",
    "# 모델 학습 횟수(epochs) 지정 및 모델 학습 시작 \n",
    "history = model.fit_generator(\n",
    "    train_generator, \n",
    "    epochs=30,\n",
    "    steps_per_epoch=100, \n",
    "    validation_data=validation_generator,\n",
    "    validation_steps=50,\n",
    "    callbacks=[checkpointer,es,reLR]\n",
    ")"
   ]
  },
  {
   "cell_type": "code",
   "execution_count": 18,
   "metadata": {},
   "outputs": [],
   "source": [
    "model.save('D:/dogs-vs-cats/datasets/cat_dog_1.h5')"
   ]
  },
  {
   "cell_type": "code",
   "execution_count": 25,
   "metadata": {},
   "outputs": [
    {
     "data": {
      "image/png": "[encoded data removed]",
      "text/plain": [
       "<Figure size 432x288 with 1 Axes>"
      ]
     },
     "metadata": {
      "needs_background": "light"
     },
     "output_type": "display_data"
    },
    {
     "data": {
      "image/png": "[encoded data removed]",
      "text/plain": [
       "<Figure size 432x288 with 1 Axes>"
      ]
     },
     "metadata": {
      "needs_background": "light"
     },
     "output_type": "display_data"
    }
   ],
   "source": [
    "# 정확도와 loss 값 시각화\n",
    "import matplotlib.pyplot as plt\n",
    "\n",
    "accuracy = history.history['acc']\n",
    "val_accuracy = history.history['val_acc']\n",
    "loss = history.history['loss']\n",
    "val_loss = history.history['val_loss']\n",
    "\n",
    "epochs = range(1, len(loss) + 1)\n",
    "\n",
    "# accuracy(train과 validation)\n",
    "plt.plot(epochs, accuracy, 'ro', label='Training accuracy')\n",
    "plt.plot(epochs, val_accuracy, 'r', label='Validation accuracy')\n",
    "plt.title('Trainging and validation accuracy')\n",
    "plt.legend()\n",
    "plt.figure()\n",
    "\n",
    "# loss(train과 validation)\n",
    "plt.plot(epochs, loss, 'bo', label='Training loss')\n",
    "plt.plot(epochs, val_loss, 'b', label='Validation loss')\n",
    "plt.title('Trainging and validation loss')\n",
    "plt.legend()\n",
    "\n",
    "plt.show()"
   ]
  }
 ],
 "metadata": {
  "kernelspec": {
   "display_name": "test",
   "language": "python",
   "name": "test"
  },
  "language_info": {
   "codemirror_mode": {
    "name": "ipython",
    "version": 3
   },
   "file_extension": ".py",
   "mimetype": "text/x-python",
   "name": "python",
   "nbconvert_exporter": "python",
   "pygments_lexer": "ipython3",
   "version": "3.7.7"
  }
 },
 "nbformat": 4,
 "nbformat_minor": 4
}
